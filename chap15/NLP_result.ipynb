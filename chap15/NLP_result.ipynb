{
 "cells": [
  {
   "cell_type": "code",
   "execution_count": null,
   "metadata": {
    "scrolled": true
   },
   "outputs": [
    {
     "name": "stderr",
     "output_type": "stream",
     "text": [
      "ERROR:root:File `'../chap15/transformer_dataset.ipynb.py'` not found.\n"
     ]
    },
    {
     "name": "stdout",
     "output_type": "stream",
     "text": [
      "input most_length 514\n",
      "self.num_heads: 2 50\n",
      "self.num_heads: 2 50\n",
      "the number of words and the number of unique words\n",
      "6 504\n",
      "{0: 'darbepoetin', 1: 'alfa', 2: '|', 3: 'drugbank', 4: 'online', 5: 'human', 6: 'erythropoietin', 7: 'with', 8: '2', 9: 'aa', 10: 'substitutions', 11: 'to', 12: 'enhance', 13: 'glycosylation', 14: '(5', 15: 'n-linked', 16: 'chains)', 17: ',', 18: '165', 19: 'residues', 20: '(mw=37', 21: 'kd)', 22: '.', 23: 'produced', 24: 'in', 25: 'chinese', 26: 'hamster', 27: 'ovary', 28: '(cho)', 29: 'cells', 30: 'by', 31: 'recombinant', 32: 'dna', 33: 'technology', 34: 'for', 35: 'the', 36: 'treatment', 37: 'of', 38: 'anemia', 39: '(from', 40: 'renal', 41: 'transplants', 42: 'or', 43: 'certain', 44: 'hiv', 45: 'treatment)', 46: 'is', 47: 'used', 48: 'it', 49: 'involved', 50: 'regulation', 51: 'erythrocyte', 52: 'differentiation', 53: 'and', 54: 'maintenance', 55: 'a', 56: 'physiological', 57: 'level', 58: 'circulating', 59: 'mass', 60: 'stimulates', 61: 'erythropoiesis', 62: 'same', 63: 'mechanism', 64: 'as', 65: 'endogenous', 66: 'interacts', 67: 'salmon', 68: 'calcitonin', 69: 'synthetic', 70: 'peptide', 71: '32', 72: 'long', 73: 'formulated', 74: 'nasal', 75: 'spray', 76: 'symptomatic', 77: \"paget's\", 78: 'disease', 79: 'patients', 80: 'unresponsive', 81: 'alternate', 82: 'treatments', 83: 'intolerant', 84: 'such', 85: 'addition', 86: 'emergency', 87: 'situations', 88: 'when', 89: 'serum', 90: 'calcium', 91: 'levels', 92: 'must', 93: 'be', 94: 'decreased', 95: 'quickly', 96: 'until', 97: 'underlying', 98: 'condition', 99: 'identified', 100: 'can', 101: 'also', 102: 'added', 103: 'existing', 104: 'therapeutic', 105: 'regimens', 106: 'hypercalcemia', 107: 'intravenous', 108: 'fluids', 109: 'furosemide', 110: 'oral', 111: 'phosphate', 112: 'corticosteroids', 113: 'other', 114: 'agents', 115: 'azotemia', 116: 'cases', 117: 'where', 118: 'would', 119: 'contraindicated', 120: 'due', 121: 'limited', 122: 'cardiac', 123: 'reserves', 124: 'post-menopausal', 125: 'osteoporosis', 126: 'women', 127: 'more', 128: 'than', 129: '5', 130: 'years', 131: 'post-menopause', 132: '', 133: 'inhibits', 134: 'bone', 135: 'resorption', 136: 'osteoclasts', 137: '(bone', 138: 'remodeling', 139: 'cells)', 140: 'promotes', 141: 'formation', 142: 'osteoblasts', 143: 'this', 144: 'leads', 145: 'net', 146: 'increase', 147: 'reduction', 148: 'plasma', 149: 'excretion', 150: 'ions', 151: 'sodium', 152: 'magnesium', 153: 'potassium', 154: 'decreasing', 155: 'tubular', 156: 'reabsorption', 157: 'consequence', 158: 'there', 159: 'an', 160: 'jejunal', 161: 'secretion', 162: 'water', 163: 'chloride', 164: 'binds', 165: 'receptor', 166: '(found', 167: 'primarily', 168: 'osteoclasts)', 169: 'which', 170: 'then', 171: 'enhances', 172: 'production', 173: 'vitamin', 174: 'd', 175: 'producing', 176: 'enzymes', 177: '(25-hydroxyvitamine', 178: 'd-24-hydroxylase)', 179: 'leading', 180: 'greater', 181: 'retention', 182: 'enhanced', 183: 'density', 184: 'binding', 185: 'its', 186: 'activates', 187: 'adenylyl', 188: 'cyclase', 189: 'phosphatidyl-inositol-calcium', 190: 'pathway', 191: 'rapidly', 192: 'absorbed', 193: 'bioavailability', 194: '71%', 195: 'following', 196: 'subcutaneous', 197: 'injection', 198: '66%', 199: 'intramuscular', 200: 'humans', 201: 'via', 202: 'route', 203: 'varies', 204: 'between', 205: '3', 206: '5%', 207: 'relative', 208: 'im', 209: '0', 210: '.15', 211: '.3', 212: 'l/kg', 213: 'protein', 214: 'about', 215: '30', 216: '40%', 217: 'undergoes', 218: 'degradation', 219: 'kidneys', 220: 'form', 221: 'pharmacologically', 222: 'inactive', 223: 'metabolites', 224: 'metabolized', 225: 'blood', 226: 'peripheral', 227: 'tissue', 228: 'urine', 229: 'studies', 230: 'injectable', 231: 'show', 232: 'increases', 233: 'filtered', 234: 'their', 235: 'kidney', 236: 'half-life', 237: 'elimination', 238: '(terminal):', 239: 'i', 240: '.m', 241: '58', 242: 'minutes;', 243: 'subq', 244: '59', 245: '64', 246: 'nasal:', 247: '~18', 248: '23', 249: 'minutes', 250: 'was', 251: 'shown', 252: 'inhibit', 253: 'lactation', 254: 'animals', 255: 'not', 256: 'recommend', 257: 'nursing', 258: 'mothers', 259: 'while', 260: 'research', 261: 'have', 262: 'decrease', 263: 'fetal', 264: 'weight', 265: 'no', 266: 'yet', 267: 'similar', 268: 'results', 269: 'recommended', 270: 'however', 271: 'proceed', 272: 'carefully', 273: 'administering', 274: 'pregnant', 275: 'consider', 276: 'if', 277: 'benefits', 278: 'outweigh', 279: 'risks', 280: 'because', 281: 'nature', 282: 'may', 283: 'provoke', 284: 'allergy', 285: 'reaction', 286: '(bronchospams', 287: 'swelling', 288: 'tongue/throat)', 289: 'that', 290: 'turn', 291: 'into', 292: 'full-blown', 293: 'anaphylactic', 294: 'response', 295: 'manufacturer', 296: 'reports', 297: 'risk', 298: 'malignancies', 299: 'from', 300: '(0', 301: '.7%)', 302: 'intranasal', 303: '(2', 304: '.4%)', 305: 'compared', 306: 'placebo', 307: 'apply', 308: 'iv', 309: 'sc', 310: 'routes', 311: 'since', 312: 'systemic', 313: 'exposure', 314: 'higher', 315: 'those', 316: 'thyrotropin', 317: 'thyroid', 318: 'stimulating', 319: 'hormone', 320: 'performing', 321: 'tests', 322: 'who', 323: 'had', 324: 'cancer', 325: 'along', 326: 'radioactive', 327: 'agent', 328: 'destroy', 329: 'remaining', 330: 'gland', 331: 'removed', 332: 'heterodimeric', 333: 'glycoprotein', 334: 'comprised', 335: 'two', 336: 'non-covalently', 337: 'linked', 338: 'subunits', 339: 'alpha', 340: 'subunit', 341: '92', 342: 'amino', 343: 'acid', 344: 'containing', 345: 'sites', 346: 'beta', 347: '112', 348: 'one', 349: 'site', 350: 'effector', 351: 'region', 352: 'responsible', 353: 'stimulation', 354: 'adenylate', 355: 'displays', 356: 'close', 357: 'structural', 358: 'similarity', 359: 'chorionic', 360: 'gonadotropin', 361: '(hcg)', 362: 'luteinizing', 363: '(lh)', 364: 'follicle-stimulating', 365: '(fsh)', 366: '(tshb)', 367: 'bestows', 368: 'specificity', 369: 'uniqueness', 370: 'tsh', 371: 'sequence', 372: 'identical', 373: 'pituitary', 374: 'detection', 375: 'residueal', 376: 'recurrent', 377: 'receptors', 378: 'on', 379: 'normal', 380: 'epithelial', 381: 'well-differentiated', 382: 'iodine', 383: 'uptake', 384: 'organification', 385: 'thyrogen', 386: 'exogenous', 387: 'source', 388: 'offers', 389: 'additional', 390: 'diagnostic', 391: 'tool', 392: 'follow-up', 393: 'history', 394: 'found', 395: 'any', 396: 'residual', 397: 'tissues', 398: 'better', 399: 'radiodiagnostic', 400: 'imaging', 401: 'time', 402: 'peak:', 403: 'median:', 404: '10', 405: 'hours', 406: '(range:', 407: '3-24', 408: 'hours)', 409: 'anakinra', 410: 'nonglycosylated', 411: 'interleukin-1', 412: 'antagonist', 413: '(il-1ra)', 414: 'difference', 415: 'native', 416: 'il-1ra', 417: 'has', 418: 'extra', 419: 'methionine', 420: 'residue', 421: 'at', 422: 'terminus', 423: 'manufactured', 424: 'using', 425: 'e', 426: 'coli', 427: 'expression', 428: 'system', 429: 'composed', 430: '153', 431: 'fda', 432: 'approved', 433: 'november', 434: '14', 435: '2001', 436: 'adult', 437: 'rheumatoid', 438: 'arthritis', 439: 'neonatal-onset', 440: 'multisystem', 441: 'inflammatory', 442: '(nomid)', 443: 'treat', 444: 'blocks', 445: 'biologic', 446: 'activity', 447: 'il-1', 448: 'competitively', 449: 'inhibiting', 450: 'type', 451: '(il-1ri)', 452: 'expressed', 453: 'wide', 454: 'variety', 455: 'organs', 456: 'induced', 457: 'stimuli', 458: 'mediates', 459: 'various', 460: 'physiologic', 461: 'responses', 462: 'including', 463: 'immunological', 464: 'elevated', 465: 'naturally', 466: 'occurring', 467: 'synovium', 468: 'synovial', 469: 'fluid', 470: '(ra)', 471: 'are', 472: 'sufficient', 473: 'compete', 474: 'amount', 475: 'locally', 476: 'increasing', 477: 'artificial', 478: 'means', 479: 'reduces', 480: 'negative', 481: 'effects', 482: '(cartilage', 483: 'resorption)', 484: 'thereby', 485: 'action', 486: 'normally', 487: 'lead', 488: 'cartilage', 489: '70', 490: 'mg', 491: 'bolus', 492: 'given', 493: 'healthy', 494: 'subjects', 495: 'absolute', 496: '95%', 497: 'accumulation', 498: 'does', 499: 'occur', 500: 'daily', 501: 'doses', 502: 'sep0', 503: 'cls0'}\n",
      "514\n",
      "self.epoch 1\n",
      "loss:  6.170256834036701\n",
      "-0.11555121\n",
      "self.epoch 2\n",
      "loss:  5.7239208095483285\n",
      "-0.071372785\n",
      "self.epoch 3\n"
     ]
    },
    {
     "name": "stdout",
     "output_type": "stream",
     "text": [
      "loss:  6.369624034907401\n",
      "0.006164506\n",
      "self.epoch 4\n",
      "loss:  6.216014896687616\n",
      "0.07697165\n",
      "self.epoch 5\n",
      "loss:  6.649359975269919\n",
      "0.07752004\n",
      "self.epoch 6\n",
      "loss:  6.403916702997822\n",
      "0.07796824\n"
     ]
    }
   ],
   "source": [
    "%run ../chap15/BERT.ipynb\n",
    "%run ../chap15/BERT_dataset.ipynb\n",
    "#np.random.seed(int(time.time()))\n",
    "#np.random.seed(1)\n",
    "with np.cuda.Device(0):\n",
    "    epoch_count=1000000\n",
    "    batch_size_=5\n",
    "    learning_rate=0.01\n",
    "    learning_decrease=1\n",
    "    restore_='result_test.csv'\n",
    "    floor=2\n",
    "    conf1 = [['encoder',{'repeat':floor}]]\n",
    "    for i in range(1,2,1):\n",
    "        restore_temp=restore_[:-4]+str(i)+restore_[-4:]\n",
    "        vsm1 = transformer('vsm1', \"dsf\", conf1,JJ=1/i,word_vector_dimension=100,batch_size=batch_size_,load=0,num_heads=2)\n",
    "        vsm1.train(epoch_count=epoch_count, \n",
    "                                learning_rate=learning_rate,learning_decrease=learning_decrease,restore=restore_temp, name=\"training_text\"\n",
    "                    )\n"
   ]
  }
 ],
 "metadata": {
  "kernelspec": {
   "display_name": "Python 3",
   "language": "python",
   "name": "python3"
  },
  "language_info": {
   "codemirror_mode": {
    "name": "ipython",
    "version": 3
   },
   "file_extension": ".py",
   "mimetype": "text/x-python",
   "name": "python",
   "nbconvert_exporter": "python",
   "pygments_lexer": "ipython3",
   "version": "3.7.4"
  }
 },
 "nbformat": 4,
 "nbformat_minor": 2
}
